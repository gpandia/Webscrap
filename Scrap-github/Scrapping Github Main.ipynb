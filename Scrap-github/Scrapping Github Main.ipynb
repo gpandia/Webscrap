{
 "cells": [
  {
   "cell_type": "code",
   "execution_count": null,
   "id": "ad33d374",
   "metadata": {},
   "outputs": [],
   "source": []
  },
  {
   "cell_type": "markdown",
   "id": "5444978e",
   "metadata": {},
   "source": [
    "# Outline: -Scrape https://github.com/topics\n",
    "-Get the list of topics. For each get the title, topic URl, topic description -For each topic get top 25 repositories \n",
    "-For each repository get the reponame, username, stars and repo url -For each topic create a csv file"
   ]
  },
  {
   "cell_type": "code",
   "execution_count": null,
   "id": "846e3cc8",
   "metadata": {},
   "outputs": [],
   "source": []
  },
  {
   "cell_type": "code",
   "execution_count": null,
   "id": "f87e19c5",
   "metadata": {},
   "outputs": [],
   "source": []
  },
  {
   "cell_type": "code",
   "execution_count": null,
   "id": "e2db17c3",
   "metadata": {},
   "outputs": [],
   "source": [
    "#Read the star_count\n",
    "def parse_star_count(star_str):\n",
    "    star_str = star_str.strip()\n",
    "    if star_str[-1] == 'k':\n",
    "       return int(float(star_str[:-1]) * 1000)\n",
    "    return int(star_str)"
   ]
  },
  {
   "cell_type": "code",
   "execution_count": null,
   "id": "2bd7f9e6",
   "metadata": {},
   "outputs": [],
   "source": []
  },
  {
   "cell_type": "code",
   "execution_count": null,
   "id": "70e65d32",
   "metadata": {},
   "outputs": [],
   "source": [
    "import os\n",
    "import pandas as pd\n",
    "from bs4 import BeautifulSoup\n",
    "\n",
    "def get_topic_page(topic_url):\n",
    "    #Download the page\n",
    "    response = requests.get(topic_url)\n",
    "    #Check successful response\n",
    "    if response.status_code != 200:\n",
    "        raise Exception('Failed to load page {}'.format(topic_url))\n",
    "    #Parse using Beautiful soup\n",
    "    topic_doc =  BeautifulSoup(response.text, 'html.parser')\n",
    "    return topic_doc\n",
    "\n",
    "    #Get the a_tag from h1_tag and repo url\n",
    "def get_repo_info(h1_tag, star_tags):\n",
    "    a_tags = h1_tag.find_all('a')\n",
    "    username = a_tags[0].text.split()\n",
    "    repo_name = a_tags[1].text.split()\n",
    "    repo_url = base_url + a_tags[1]['href']\n",
    "    stars = parse_star_count(star_tags.text.strip())\n",
    "    return username, repo_name, stars, repo_url\n",
    "\n",
    "def get_topic_repos(topic_doc):\n",
    "    #Get the h1 tags containing repo title, repo URL and username\n",
    "    h1_selection_class = 'f3 color-fg-muted text-normal lh-condensed'\n",
    "    repo_tags = topic_doc.find_all('h3', {'class': h1_selection_class})\n",
    "    #Get star_tags\n",
    "    star_tags = topic_doc.find_all('span', {'class': 'Counter js-social-count'})\n",
    "    \n",
    "    topic_repos_dict={\n",
    "    'username': [],\n",
    "    'repo_name': [],\n",
    "    'stars': [],\n",
    "    'repo_url': []\n",
    "    }\n",
    "\n",
    "    for i in range(len(repo_tags)):\n",
    "        repo_info = get_repo_info(repo_tags[i], star_tags[i])\n",
    "        topic_repos_dict['username'].append(repo_info[0])\n",
    "        topic_repos_dict['repo_name'].append(repo_info[1])\n",
    "        topic_repos_dict['stars'].append(repo_info[2])\n",
    "        topic_repos_dict['repo_url'].append(repo_info[3])\n",
    "        \n",
    "    return pd.DataFrame(topic_repos_dict)\n",
    "    \n",
    "    #Turn the doc to csv\n",
    "def scrape_topic(topic_url, path):\n",
    "    if os.path.exists(path):\n",
    "        print(\"The file {} already exists.\".format(path))\n",
    "        return \n",
    "    topic_df = get_topic_repos(get_topic_page(topic_url))\n",
    "    topic_df.to_csv(path + '.csv', index = None)\n",
    "    \n",
    "    \n",
    "    "
   ]
  },
  {
   "cell_type": "code",
   "execution_count": null,
   "id": "6a412b0a",
   "metadata": {},
   "outputs": [],
   "source": []
  },
  {
   "cell_type": "code",
   "execution_count": null,
   "id": "6d5e8aad",
   "metadata": {},
   "outputs": [],
   "source": []
  },
  {
   "cell_type": "code",
   "execution_count": null,
   "id": "6762de3d",
   "metadata": {},
   "outputs": [],
   "source": [
    "#get the title, description, url and turn it to a dataframe for each page\n",
    "\n",
    "def get_topic_titles(doc):\n",
    "    selection_class = 'f3 lh-condensed mb-0 mt-1 Link--primary'\n",
    "    topic_title_tags = doc.find_all('p',{'class': selection_class})\n",
    "    topic_titles =[]\n",
    "    for tag in topic_title_tags:\n",
    "        topic_titles.append(tag.text)\n",
    "    return topic_titles\n",
    "\n",
    "def get_topic_desc(doc):\n",
    "    desc_class = 'f5 color-fg-muted mb-0 mt-1'\n",
    "    topic_desc_tags = doc.find_all('p',{'class': desc_class})\n",
    "    topic_desc = []\n",
    "    for tag in topic_desc_tags:\n",
    "        topic_desc.append(tag.text.strip())\n",
    "    return topic_desc\n",
    "\n",
    "def get_topic_urls(doc):\n",
    "    topic_link_class = 'no-underline flex-grow-0'\n",
    "    topic_link_tag = doc.find_all('a',{'class': topic_link_class})\n",
    "    topic_link=[]\n",
    "    base_url = 'https://github.com'\n",
    "    for tag in topic_link_tag:\n",
    "        topic_link.append(base_url + tag['href'])\n",
    "    return topic_link\n",
    "    \n",
    "def scrape_topics():\n",
    "    topics_url = 'https://github.com/topics'\n",
    "    response = requests.get(topics_url)\n",
    "    if response.status_code != 200:\n",
    "        raise Exception('Failed to load page {}'.format(topics_url))\n",
    "    topic_dict ={\n",
    "        'title': get_topic_titles(doc),\n",
    "        'description':get_topic_desc(doc),\n",
    "        'url': get_topic_urls(doc)\n",
    "    }\n",
    "    return pd.DataFrame(topic_dict)"
   ]
  },
  {
   "cell_type": "code",
   "execution_count": null,
   "id": "7e41d907",
   "metadata": {},
   "outputs": [],
   "source": []
  },
  {
   "cell_type": "code",
   "execution_count": null,
   "id": "977f6478",
   "metadata": {},
   "outputs": [],
   "source": []
  },
  {
   "cell_type": "code",
   "execution_count": null,
   "id": "7a88e010",
   "metadata": {},
   "outputs": [],
   "source": [
    "#Putting everything together\n",
    "import os\n",
    "def scrape_topics_repos():\n",
    "    print('Scraping list of topics')\n",
    "    topics_df = scrape_topics()\n",
    "    os.makedirs('data', exist_ok = True)\n",
    "    for index, row in topics_df.iterrows():\n",
    "        print('Scrapping top repositories for \"{}\"'.format(row['title']))\n",
    "        scrape_topic(row['url'], 'data/{}.csv'.format(row['title']))"
   ]
  },
  {
   "cell_type": "code",
   "execution_count": null,
   "id": "cfbcc7b9",
   "metadata": {},
   "outputs": [],
   "source": []
  },
  {
   "cell_type": "code",
   "execution_count": null,
   "id": "25bb222e",
   "metadata": {},
   "outputs": [],
   "source": []
  }
 ],
 "metadata": {
  "kernelspec": {
   "display_name": "Python 3 (ipykernel)",
   "language": "python",
   "name": "python3"
  },
  "language_info": {
   "codemirror_mode": {
    "name": "ipython",
    "version": 3
   },
   "file_extension": ".py",
   "mimetype": "text/x-python",
   "name": "python",
   "nbconvert_exporter": "python",
   "pygments_lexer": "ipython3",
   "version": "3.9.7"
  }
 },
 "nbformat": 4,
 "nbformat_minor": 5
}
